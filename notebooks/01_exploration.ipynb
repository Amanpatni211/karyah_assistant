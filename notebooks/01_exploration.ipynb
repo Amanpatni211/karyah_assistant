{
 "cells": [
  {
   "cell_type": "markdown",
   "metadata": {},
   "source": [
    "# karyah_assistant: Data Exploration\n",
    "Created: Sun May 25 11:02:06 UTC 2025"
   ]
  },
  {
   "cell_type": "code",
   "execution_count": null,
   "metadata": {},
   "source": [
    "import sys\n",
    "sys.path.append(\"..\")\n",
    "\n",
    "import numpy as np\n",
    "import pandas as pd\n",
    "import matplotlib.pyplot as plt\n",
    "\n",
    "# Import project modules\n",
    "try:\n",
    "  from src.karyah_assistant.utils import config\n",
    "  CFG = config.load_config(\"../configs/default.yml\")\n",
    "  print(\"Config loaded:\", CFG)\n",
    "except ImportError:\n",
    "  print(\"Could not import project modules. Ensure setup.py is installed (-e .)\")\n",
    "\n",
    "%matplotlib inline"
   ]
  }
 ],
 "metadata": {
  "kernelspec": {
   "display_name": "Python 3",
   "language": "python",
   "name": "python3"
  }
 },
 "nbformat": 4,
 "nbformat_minor": 4
}
